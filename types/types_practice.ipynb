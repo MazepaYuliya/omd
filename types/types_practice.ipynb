{
 "cells": [
  {
   "cell_type": "code",
   "execution_count": 4,
   "metadata": {},
   "outputs": [
    {
     "name": "stdout",
     "output_type": "stream",
     "text": [
      "{3, 4, 5}\n"
     ]
    }
   ],
   "source": [
    "a = [0, 1, 2, 3, 4, 5]\n",
    "b = [3, 4, 5]\n",
    "print(set(a).intersection(set(b)))"
   ]
  },
  {
   "cell_type": "code",
   "execution_count": 5,
   "metadata": {},
   "outputs": [
    {
     "name": "stdout",
     "output_type": "stream",
     "text": [
      "[3, 4, 5]\n"
     ]
    }
   ],
   "source": [
    "a = [0, 1, 2, 3, 4, 5]\n",
    "b = [3, 4, 5]\n",
    "print([x for x in a if x in b])"
   ]
  },
  {
   "cell_type": "code",
   "execution_count": 6,
   "metadata": {},
   "outputs": [
    {
     "name": "stdout",
     "output_type": "stream",
     "text": [
      "{0, 1, 2}\n"
     ]
    }
   ],
   "source": [
    "a = [0, 0, 1, 1, 2, 2]\n",
    "print(set(a))"
   ]
  },
  {
   "cell_type": "code",
   "execution_count": 8,
   "metadata": {},
   "outputs": [
    {
     "name": "stdout",
     "output_type": "stream",
     "text": [
      "[0, 1, 2]\n"
     ]
    }
   ],
   "source": [
    "b = []\n",
    "for x in a:\n",
    "    if x not in b:\n",
    "        b.append(x)\n",
    "print(b)"
   ]
  },
  {
   "cell_type": "code",
   "execution_count": 12,
   "metadata": {},
   "outputs": [
    {
     "name": "stdout",
     "output_type": "stream",
     "text": [
      "[0, 1, 2]\n"
     ]
    }
   ],
   "source": [
    "print(list(dict.fromkeys(a)))"
   ]
  },
  {
   "cell_type": "code",
   "execution_count": 13,
   "metadata": {},
   "outputs": [
    {
     "name": "stdout",
     "output_type": "stream",
     "text": [
      "[0, 2, 4]\n"
     ]
    }
   ],
   "source": [
    "a = [0, 1, 2, 3, 4, 5]\n",
    "print([x for x in a if x%2==0])"
   ]
  },
  {
   "cell_type": "code",
   "execution_count": 15,
   "metadata": {},
   "outputs": [
    {
     "name": "stdout",
     "output_type": "stream",
     "text": [
      "[0, 2, 4]\n"
     ]
    }
   ],
   "source": [
    "print(list(filter(lambda x: x%2==0, a)))"
   ]
  },
  {
   "cell_type": "code",
   "execution_count": 18,
   "metadata": {},
   "outputs": [
    {
     "name": "stdout",
     "output_type": "stream",
     "text": [
      "{0: 'a', 1: 'b', 2: 'c'}\n"
     ]
    }
   ],
   "source": [
    "a = ['a', 'b', 'c']\n",
    "b = {x:y for x,y in enumerate(a)}\n",
    "print(b)"
   ]
  },
  {
   "cell_type": "code",
   "execution_count": 21,
   "metadata": {},
   "outputs": [
    {
     "name": "stdout",
     "output_type": "stream",
     "text": [
      "{0: 'a', 1: 'b', 2: 'c'}\n"
     ]
    }
   ],
   "source": [
    "print(dict(enumerate(a)))"
   ]
  },
  {
   "cell_type": "code",
   "execution_count": 24,
   "metadata": {},
   "outputs": [
    {
     "name": "stdout",
     "output_type": "stream",
     "text": [
      "Hi, Alise\n",
      "Hi, John\n",
      "Hi, Alise\n",
      "Hi, John\n",
      "Hi Alise\n",
      "Hi John\n"
     ]
    }
   ],
   "source": [
    "a = ['Alise', 'John']\n",
    "for x in a:\n",
    "    print(f'Hi, {x}')\n",
    "\n",
    "for x in a:\n",
    "    print('Hi, {}'.format(x))\n",
    "\n",
    "for x in a:\n",
    "    print('Hi %s' % x)"
   ]
  },
  {
   "cell_type": "code",
   "execution_count": 25,
   "metadata": {},
   "outputs": [
    {
     "name": "stdout",
     "output_type": "stream",
     "text": [
      "Alise\n",
      "Hi, John\n"
     ]
    }
   ],
   "source": [
    "print('\\nHi, '.join(a))"
   ]
  },
  {
   "cell_type": "code",
   "execution_count": 49,
   "metadata": {},
   "outputs": [
    {
     "name": "stdout",
     "output_type": "stream",
     "text": [
      "отсутствуют b, c\n"
     ]
    }
   ],
   "source": [
    "a = ['a', 'b', 'c']\n",
    "b = ['a']\n",
    "diff = set(a).difference(set(b))\n",
    "print(f'отсутствуют {\", \".join(diff)}')"
   ]
  },
  {
   "cell_type": "code",
   "execution_count": 55,
   "metadata": {},
   "outputs": [
    {
     "name": "stdout",
     "output_type": "stream",
     "text": [
      "[0, 1, 2, 3, 3, 4, 4, 5, 5]\n"
     ]
    }
   ],
   "source": [
    "a = [0, 1, 2, 3, 4, 5]\n",
    "b = [3, 4, 5]\n",
    "a.extend(b)\n",
    "print(sorted(a))"
   ]
  },
  {
   "cell_type": "code",
   "execution_count": 59,
   "metadata": {},
   "outputs": [
    {
     "name": "stdout",
     "output_type": "stream",
     "text": [
      "{2: 'c', 1: 'b', 0: 'a'}\n"
     ]
    }
   ],
   "source": [
    "a = {0: 'a', 1: 'b', 2: 'c'}\n",
    "print(dict(sorted(a.items(), reverse=True)))"
   ]
  },
  {
   "cell_type": "code",
   "execution_count": 70,
   "metadata": {},
   "outputs": [
    {
     "name": "stdout",
     "output_type": "stream",
     "text": [
      "направление: E, скорость: 2\n",
      "направление: W, скорость: 2\n",
      "направление: NW, скорость: 2\n",
      "направление: N, скорость: 2\n",
      "направление: NE, скорость: 2\n",
      "направление: N, скорость: 2\n",
      "направление: E, скорость: 2\n",
      "направление: SE, скорость: 2\n",
      "направление: S, скорость: 2\n",
      "направление: SW, скорость: 2\n",
      "направление: NW, скорость: 2\n",
      "направление: N, скорость: 2\n",
      "направление: NE, скорость: 2\n",
      "направление: NE, скорость: 2\n",
      "направление: NE, скорость: 2\n",
      "направление: NE, скорость: 2\n",
      "направление: SE, скорость: 2\n",
      "направление: W, скорость: 2\n",
      "направление: N, скорость: 2\n",
      "направление: N, скорость: 2\n",
      "направление: NE, скорость: 2\n",
      "направление: E, скорость: 2\n",
      "направление: NE, скорость: 2\n",
      "направление: NE, скорость: 2\n"
     ]
    }
   ],
   "source": [
    "import requests\n",
    "\n",
    "\n",
    "URL = 'https://www.7timer.info/bin/astro.php?lon=113.2&lat=23.1&ac=0&unit=metric&output=json&tzshift=0'\n",
    "response = requests.get(URL, timeout=10)\n",
    "points = response.json()\n",
    "points_data = points.get('dataseries', [])\n",
    "for point_data in points_data:\n",
    "    wind = point_data.get('wind10m')\n",
    "    if not wind:\n",
    "        continue\n",
    "    print(f'направление: {wind.get(\"direction\")}, скорость: {wind.get(\"speed\")}')\n"
   ]
  }
 ],
 "metadata": {
  "kernelspec": {
   "display_name": "Python 3",
   "language": "python",
   "name": "python3"
  },
  "language_info": {
   "codemirror_mode": {
    "name": "ipython",
    "version": 3
   },
   "file_extension": ".py",
   "mimetype": "text/x-python",
   "name": "python",
   "nbconvert_exporter": "python",
   "pygments_lexer": "ipython3",
   "version": "3.9.10"
  },
  "orig_nbformat": 4
 },
 "nbformat": 4,
 "nbformat_minor": 2
}
