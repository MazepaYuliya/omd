{
 "cells": [
  {
   "cell_type": "code",
   "execution_count": 3,
   "metadata": {},
   "outputs": [
    {
     "name": "stdout",
     "output_type": "stream",
     "text": [
      "(3, 10)\n",
      "3 10\n",
      "110\n"
     ]
    }
   ],
   "source": [
    "def sum_squares(initial_value: int = 0, *other_values) -> int:\n",
    "    \"\"\"Calculates the sum of squares of specified values.\"\"\"\n",
    "    print(other_values)\n",
    "    print(*other_values)\n",
    "    all_values = (initial_value, ) + other_values\n",
    "    return sum(v ** 2 for v in all_values)\n",
    "\n",
    "print(sum_squares(1, 3, 10))"
   ]
  },
  {
   "cell_type": "code",
   "execution_count": 4,
   "metadata": {},
   "outputs": [
    {
     "name": "stdout",
     "output_type": "stream",
     "text": [
      "**  aatest;  25\n",
      "**  bbtest;  36\n"
     ]
    }
   ],
   "source": [
    "def format_users(users: list, delimiter: str = ';', **kwargs) -> str:\n",
    "    \"\"\"Formats the `users` with specified options.\"\"\"\n",
    "    prefix = kwargs.get('prefix', '-')\n",
    "    num_spaces = kwargs.get('num_spaces', 1)\n",
    "    spaces = ' ' * num_spaces\n",
    "    lines = (\n",
    "        f'{prefix}{spaces}{user[\"name\"]}{delimiter}{spaces}{user[\"age\"]}'\n",
    "        for user in users\n",
    "    )\n",
    "    return '\\n'.join(lines)\n",
    "\n",
    "sample = [\n",
    "    {'name': 'aatest', 'age': 25},\n",
    "    {'name': 'bbtest', 'age': 36},\n",
    "]\n",
    "print(format_users(sample, num_spaces=2, prefix='**'))"
   ]
  },
  {
   "cell_type": "code",
   "execution_count": 10,
   "metadata": {},
   "outputs": [
    {
     "name": "stdout",
     "output_type": "stream",
     "text": [
      "Всего 6 конфет.\n",
      "Всего 7 конфет.\n",
      "Всего 6 конфет.\n"
     ]
    }
   ],
   "source": [
    "def get_candy():\n",
    "    candy = 5\n",
    "    def increment_candy():\n",
    "        nonlocal candy\n",
    "        candy += 1\n",
    "        return candy\n",
    "    return increment_candy\n",
    "\n",
    "# result = get_candy()()\n",
    "result = get_candy()\n",
    "print('Всего {} конфет.'.format(result()))\n",
    "print('Всего {} конфет.'.format(result()))\n",
    "\n",
    "result = get_candy()\n",
    "print('Всего {} конфет.'.format(result()))"
   ]
  },
  {
   "cell_type": "code",
   "execution_count": 20,
   "metadata": {},
   "outputs": [
    {
     "name": "stdout",
     "output_type": "stream",
     "text": [
      "['plum', 'orange', 'apple']\n"
     ]
    }
   ],
   "source": [
    "def reverse_list(list_to_reverse):\n",
    "    if not isinstance(list_to_reverse, list):\n",
    "        raise ValueError\n",
    "    list_to_reverse.reverse()\n",
    "    return list_to_reverse\n",
    "\n",
    "list_to_reverse = ['apple', 'orange', 'plum']\n",
    "print(reverse_list(list_to_reverse))"
   ]
  },
  {
   "cell_type": "code",
   "execution_count": 13,
   "metadata": {},
   "outputs": [
    {
     "name": "stdout",
     "output_type": "stream",
     "text": [
      "['plum', 'orange', 'apple']\n"
     ]
    },
    {
     "ename": "ValueError",
     "evalue": "",
     "output_type": "error",
     "traceback": [
      "\u001b[1;31m---------------------------------------------------------------------------\u001b[0m",
      "\u001b[1;31mValueError\u001b[0m                                Traceback (most recent call last)",
      "\u001b[1;32mc:\\Users\\lm137\\Desktop\\Education\\omd\\functions_practice.ipynb Cell 4\u001b[0m line \u001b[0;36m7\n\u001b[0;32m      <a href='vscode-notebook-cell:/c%3A/Users/lm137/Desktop/Education/omd/functions_practice.ipynb#W3sZmlsZQ%3D%3D?line=3'>4</a>\u001b[0m     \u001b[39mreturn\u001b[39;00m [list_to_reverse\u001b[39m.\u001b[39mpop() \u001b[39mfor\u001b[39;00m _ \u001b[39min\u001b[39;00m \u001b[39mrange\u001b[39m(\u001b[39mlen\u001b[39m(list_to_reverse))]\n\u001b[0;32m      <a href='vscode-notebook-cell:/c%3A/Users/lm137/Desktop/Education/omd/functions_practice.ipynb#W3sZmlsZQ%3D%3D?line=5'>6</a>\u001b[0m \u001b[39mprint\u001b[39m(get_reversed_list([\u001b[39m'\u001b[39m\u001b[39mapple\u001b[39m\u001b[39m'\u001b[39m, \u001b[39m'\u001b[39m\u001b[39morange\u001b[39m\u001b[39m'\u001b[39m, \u001b[39m'\u001b[39m\u001b[39mplum\u001b[39m\u001b[39m'\u001b[39m]))\n\u001b[1;32m----> <a href='vscode-notebook-cell:/c%3A/Users/lm137/Desktop/Education/omd/functions_practice.ipynb#W3sZmlsZQ%3D%3D?line=6'>7</a>\u001b[0m \u001b[39mprint\u001b[39m(get_reversed_list(\u001b[39m111111\u001b[39;49m))\n",
      "\u001b[1;32mc:\\Users\\lm137\\Desktop\\Education\\omd\\functions_practice.ipynb Cell 4\u001b[0m line \u001b[0;36m3\n\u001b[0;32m      <a href='vscode-notebook-cell:/c%3A/Users/lm137/Desktop/Education/omd/functions_practice.ipynb#W3sZmlsZQ%3D%3D?line=0'>1</a>\u001b[0m \u001b[39mdef\u001b[39;00m \u001b[39mget_reversed_list\u001b[39m(list_to_reverse):\n\u001b[0;32m      <a href='vscode-notebook-cell:/c%3A/Users/lm137/Desktop/Education/omd/functions_practice.ipynb#W3sZmlsZQ%3D%3D?line=1'>2</a>\u001b[0m     \u001b[39mif\u001b[39;00m \u001b[39mnot\u001b[39;00m \u001b[39misinstance\u001b[39m(list_to_reverse, \u001b[39mlist\u001b[39m):\n\u001b[1;32m----> <a href='vscode-notebook-cell:/c%3A/Users/lm137/Desktop/Education/omd/functions_practice.ipynb#W3sZmlsZQ%3D%3D?line=2'>3</a>\u001b[0m         \u001b[39mraise\u001b[39;00m \u001b[39mValueError\u001b[39;00m\n\u001b[0;32m      <a href='vscode-notebook-cell:/c%3A/Users/lm137/Desktop/Education/omd/functions_practice.ipynb#W3sZmlsZQ%3D%3D?line=3'>4</a>\u001b[0m     \u001b[39mreturn\u001b[39;00m [list_to_reverse\u001b[39m.\u001b[39mpop() \u001b[39mfor\u001b[39;00m _ \u001b[39min\u001b[39;00m \u001b[39mrange\u001b[39m(\u001b[39mlen\u001b[39m(list_to_reverse))]\n",
      "\u001b[1;31mValueError\u001b[0m: "
     ]
    }
   ],
   "source": [
    "def reverse_list(list_to_reverse):\n",
    "    if not isinstance(list_to_reverse, list):\n",
    "        raise ValueError\n",
    "    return [list_to_reverse.pop() for _ in range(len(list_to_reverse))]\n",
    "\n",
    "print(reverse_list(['apple', 'orange', 'plum']))\n",
    "print(reverse_list(111111))"
   ]
  },
  {
   "cell_type": "code",
   "execution_count": 23,
   "metadata": {},
   "outputs": [
    {
     "name": "stdout",
     "output_type": "stream",
     "text": [
      "['q', 'a', 'w', 'e', 'r', 't', 'y']\n",
      "['one', 'two', 'three']\n"
     ]
    },
    {
     "ename": "ValueError",
     "evalue": "",
     "output_type": "error",
     "traceback": [
      "\u001b[1;31m---------------------------------------------------------------------------\u001b[0m",
      "\u001b[1;31mValueError\u001b[0m                                Traceback (most recent call last)",
      "\u001b[1;32mc:\\Users\\lm137\\Desktop\\Education\\omd\\functions_practice.ipynb Cell 6\u001b[0m line \u001b[0;36m1\n\u001b[0;32m     <a href='vscode-notebook-cell:/c%3A/Users/lm137/Desktop/Education/omd/functions_practice.ipynb#W5sZmlsZQ%3D%3D?line=9'>10</a>\u001b[0m \u001b[39mprint\u001b[39m(drop_dups(\u001b[39m'\u001b[39m\u001b[39mqqqaaaweraaatyy\u001b[39m\u001b[39m'\u001b[39m))\n\u001b[0;32m     <a href='vscode-notebook-cell:/c%3A/Users/lm137/Desktop/Education/omd/functions_practice.ipynb#W5sZmlsZQ%3D%3D?line=10'>11</a>\u001b[0m \u001b[39mprint\u001b[39m(drop_dups((\u001b[39m'\u001b[39m\u001b[39mone\u001b[39m\u001b[39m'\u001b[39m, \u001b[39m'\u001b[39m\u001b[39mtwo\u001b[39m\u001b[39m'\u001b[39m, \u001b[39m'\u001b[39m\u001b[39mone\u001b[39m\u001b[39m'\u001b[39m, \u001b[39m'\u001b[39m\u001b[39mtwo\u001b[39m\u001b[39m'\u001b[39m, \u001b[39m'\u001b[39m\u001b[39mthree\u001b[39m\u001b[39m'\u001b[39m)))\n\u001b[1;32m---> <a href='vscode-notebook-cell:/c%3A/Users/lm137/Desktop/Education/omd/functions_practice.ipynb#W5sZmlsZQ%3D%3D?line=11'>12</a>\u001b[0m \u001b[39mprint\u001b[39m(drop_dups(\u001b[39m11111\u001b[39;49m))\n",
      "\u001b[1;32mc:\\Users\\lm137\\Desktop\\Education\\omd\\functions_practice.ipynb Cell 6\u001b[0m line \u001b[0;36m3\n\u001b[0;32m      <a href='vscode-notebook-cell:/c%3A/Users/lm137/Desktop/Education/omd/functions_practice.ipynb#W5sZmlsZQ%3D%3D?line=0'>1</a>\u001b[0m \u001b[39mdef\u001b[39;00m \u001b[39mdrop_dups\u001b[39m(data):\n\u001b[0;32m      <a href='vscode-notebook-cell:/c%3A/Users/lm137/Desktop/Education/omd/functions_practice.ipynb#W5sZmlsZQ%3D%3D?line=1'>2</a>\u001b[0m     \u001b[39mif\u001b[39;00m \u001b[39mnot\u001b[39;00m \u001b[39mhasattr\u001b[39m(data, \u001b[39m'\u001b[39m\u001b[39m__iter__\u001b[39m\u001b[39m'\u001b[39m):\n\u001b[1;32m----> <a href='vscode-notebook-cell:/c%3A/Users/lm137/Desktop/Education/omd/functions_practice.ipynb#W5sZmlsZQ%3D%3D?line=2'>3</a>\u001b[0m         \u001b[39mraise\u001b[39;00m \u001b[39mValueError\u001b[39;00m\n\u001b[0;32m      <a href='vscode-notebook-cell:/c%3A/Users/lm137/Desktop/Education/omd/functions_practice.ipynb#W5sZmlsZQ%3D%3D?line=3'>4</a>\u001b[0m     b \u001b[39m=\u001b[39m []\n\u001b[0;32m      <a href='vscode-notebook-cell:/c%3A/Users/lm137/Desktop/Education/omd/functions_practice.ipynb#W5sZmlsZQ%3D%3D?line=4'>5</a>\u001b[0m     \u001b[39mfor\u001b[39;00m x \u001b[39min\u001b[39;00m data:\n",
      "\u001b[1;31mValueError\u001b[0m: "
     ]
    }
   ],
   "source": [
    "def drop_dups(data):\n",
    "    if not hasattr(data, '__iter__'):\n",
    "        raise ValueError\n",
    "    b = []\n",
    "    for x in data:\n",
    "        if x not in b:\n",
    "            b.append(x)\n",
    "    return b\n",
    "\n",
    "print(drop_dups('qqqaaaweraaatyy'))\n",
    "print(drop_dups(('one', 'two', 'one', 'two', 'three')))\n",
    "print(drop_dups(11111))"
   ]
  },
  {
   "cell_type": "code",
   "execution_count": 25,
   "metadata": {},
   "outputs": [
    {
     "name": "stdout",
     "output_type": "stream",
     "text": [
      "1\n",
      "3\n"
     ]
    }
   ],
   "source": [
    "from collections import Counter\n",
    "\n",
    "def count_nonunique(data):\n",
    "    result = Counter(data)\n",
    "    count = 0\n",
    "    for value in result.values():\n",
    "        count += 1 if value>1 else 0\n",
    "    return count\n",
    "\n",
    "print(count_nonunique(('one', 'two', 'one', 'three')))\n",
    "print(count_nonunique('qwweertty'))"
   ]
  },
  {
   "cell_type": "code",
   "execution_count": 26,
   "metadata": {},
   "outputs": [
    {
     "name": "stdout",
     "output_type": "stream",
     "text": [
      "[5, 8, 9]\n"
     ]
    },
    {
     "ename": "ValueError",
     "evalue": "",
     "output_type": "error",
     "traceback": [
      "\u001b[1;31m---------------------------------------------------------------------------\u001b[0m",
      "\u001b[1;31mValueError\u001b[0m                                Traceback (most recent call last)",
      "\u001b[1;32mc:\\Users\\lm137\\Desktop\\Education\\omd\\functions_practice.ipynb Cell 8\u001b[0m line \u001b[0;36m1\n\u001b[0;32m      <a href='vscode-notebook-cell:/c%3A/Users/lm137/Desktop/Education/omd/functions_practice.ipynb#X10sZmlsZQ%3D%3D?line=8'>9</a>\u001b[0m     \u001b[39mreturn\u001b[39;00m numbers_list\n\u001b[0;32m     <a href='vscode-notebook-cell:/c%3A/Users/lm137/Desktop/Education/omd/functions_practice.ipynb#X10sZmlsZQ%3D%3D?line=10'>11</a>\u001b[0m \u001b[39mprint\u001b[39m(split_to_digits((\u001b[39m589\u001b[39m)))\n\u001b[1;32m---> <a href='vscode-notebook-cell:/c%3A/Users/lm137/Desktop/Education/omd/functions_practice.ipynb#X10sZmlsZQ%3D%3D?line=11'>12</a>\u001b[0m split_to_digits(\u001b[39m-\u001b[39;49m\u001b[39m420\u001b[39;49m)\n",
      "\u001b[1;32mc:\\Users\\lm137\\Desktop\\Education\\omd\\functions_practice.ipynb Cell 8\u001b[0m line \u001b[0;36m3\n\u001b[0;32m      <a href='vscode-notebook-cell:/c%3A/Users/lm137/Desktop/Education/omd/functions_practice.ipynb#X10sZmlsZQ%3D%3D?line=0'>1</a>\u001b[0m \u001b[39mdef\u001b[39;00m \u001b[39msplit_to_digits\u001b[39m(number):\n\u001b[0;32m      <a href='vscode-notebook-cell:/c%3A/Users/lm137/Desktop/Education/omd/functions_practice.ipynb#X10sZmlsZQ%3D%3D?line=1'>2</a>\u001b[0m     \u001b[39mif\u001b[39;00m \u001b[39mnot\u001b[39;00m \u001b[39misinstance\u001b[39m(number, \u001b[39mint\u001b[39m) \u001b[39mor\u001b[39;00m number \u001b[39m<\u001b[39m\u001b[39m=\u001b[39m \u001b[39m0\u001b[39m:\n\u001b[1;32m----> <a href='vscode-notebook-cell:/c%3A/Users/lm137/Desktop/Education/omd/functions_practice.ipynb#X10sZmlsZQ%3D%3D?line=2'>3</a>\u001b[0m         \u001b[39mraise\u001b[39;00m \u001b[39mValueError\u001b[39;00m\n\u001b[0;32m      <a href='vscode-notebook-cell:/c%3A/Users/lm137/Desktop/Education/omd/functions_practice.ipynb#X10sZmlsZQ%3D%3D?line=3'>4</a>\u001b[0m     numbers_list \u001b[39m=\u001b[39m []\n\u001b[0;32m      <a href='vscode-notebook-cell:/c%3A/Users/lm137/Desktop/Education/omd/functions_practice.ipynb#X10sZmlsZQ%3D%3D?line=4'>5</a>\u001b[0m     \u001b[39mwhile\u001b[39;00m number \u001b[39m>\u001b[39m \u001b[39m0\u001b[39m:\n",
      "\u001b[1;31mValueError\u001b[0m: "
     ]
    }
   ],
   "source": [
    "def split_to_digits(number):\n",
    "    if not isinstance(number, int) or number <= 0:\n",
    "        raise ValueError\n",
    "    numbers_list = []\n",
    "    while number > 0:\n",
    "        numbers_list.append(number % 10)\n",
    "        number = number // 10\n",
    "    numbers_list.reverse()\n",
    "    return numbers_list\n",
    "\n",
    "print(split_to_digits((589)))\n",
    "split_to_digits(-420)"
   ]
  },
  {
   "cell_type": "code",
   "execution_count": 27,
   "metadata": {},
   "outputs": [
    {
     "name": "stdout",
     "output_type": "stream",
     "text": [
      "{'odds': 2, 'evens': 4}\n"
     ]
    }
   ],
   "source": [
    "def count_odds_evens(number):\n",
    "    if not isinstance(number, int) or number <= 0:\n",
    "        raise ValueError\n",
    "    odds = 0\n",
    "    count = 0\n",
    "    while number > 0:\n",
    "        count += 1\n",
    "        if (number % 10) % 2 == 0:\n",
    "            odds += 1\n",
    "        number = number // 10\n",
    "    return {'odds': odds, 'evens': count - odds}\n",
    "\n",
    "print(count_odds_evens(592271))"
   ]
  },
  {
   "cell_type": "code",
   "execution_count": 33,
   "metadata": {},
   "outputs": [
    {
     "name": "stdout",
     "output_type": "stream",
     "text": [
      "['q', 'w', 'r', 't']\n",
      "['one', 'three']\n",
      "['q', 'w', 'q', 'r', 'r', 't']\n"
     ]
    }
   ],
   "source": [
    "def subtract_lists(object1, object2):\n",
    "    set2 = set(object2)\n",
    "    return [el for el in object1 if el not in set2]\n",
    "\n",
    "print(subtract_lists('qwerty', 'defxyz'))\n",
    "print(subtract_lists(\n",
    "    ('one', 'two', 'three'),\n",
    "    ('two', 'five', 'seven')\n",
    "))\n",
    "print(subtract_lists('qweqrrty', 'defxyz'))"
   ]
  },
  {
   "cell_type": "code",
   "execution_count": 34,
   "metadata": {},
   "outputs": [
    {
     "data": {
      "text/plain": [
       "[{'lat': -95.0,\n",
       "  'lng': 120.5,\n",
       "  'error': 'Неверно задана широта: -95.0 (должна быть от -90.0 до 90.0);'},\n",
       " {'lat': 88.8,\n",
       "  'lng': 190.5,\n",
       "  'error': 'Неверно задана долгота: 190.5 (должна быть от -180.0 до 180.0)'},\n",
       " {'lat': -120.0,\n",
       "  'lng': -200.1,\n",
       "  'error': 'Неверно задана широта: -120.0 (должна быть от -90.0 до 90.0); Неверно задана долгота: -200.1 (должна быть от -180.0 до 180.0)'}]"
      ]
     },
     "execution_count": 34,
     "metadata": {},
     "output_type": "execute_result"
    }
   ],
   "source": [
    "def check_coordinate(coordinate):\n",
    "    error = ''\n",
    "    lat = coordinate[0]\n",
    "    lng = coordinate[1]\n",
    "    if lat < -90 or lat > 90:\n",
    "        error = f'Неверно задана широта: {lat} (должна быть от -90.0 до 90.0);'\n",
    "    if lng < -180 or lng > 180:\n",
    "        error = f'{error}{\" \" if error else \"\"}Неверно задана долгота: {lng} (должна быть от -180.0 до 180.0)'\n",
    "    return error\n",
    "\n",
    "def validate_coords(*coordinates):\n",
    "    result = []\n",
    "    for coordinate in coordinates:\n",
    "        error = check_coordinate(coordinate)\n",
    "        if not error:\n",
    "            continue\n",
    "        result.append({'lat': coordinate[0], 'lng': coordinate[1], 'error': error})\n",
    "    return result\n",
    "\n",
    "validate_coords(\n",
    "    (0.0, 1.0),\n",
    "    (-35.7, -100.7),\n",
    "    (-95.0, 120.5),\n",
    "    (88.8, 190.5),\n",
    "    (17.33, 18.46),\n",
    "    (-120.0, -200.1),\n",
    ")"
   ]
  },
  {
   "cell_type": "code",
   "execution_count": 35,
   "metadata": {},
   "outputs": [
    {
     "name": "stdout",
     "output_type": "stream",
     "text": [
      "{'one': 1, 'plus': 2, 'two': 1, 'equals': 2, 'four': 3, 'and': 1, 'eight': 1}\n",
      "None\n"
     ]
    }
   ],
   "source": [
    "from collections import Counter\n",
    "\n",
    "def count_words(text):\n",
    "    if not isinstance(text, str):\n",
    "        return ValueError\n",
    "    return print(dict(Counter(text.lower().split())))\n",
    "\n",
    "print(count_words('one plus TWO equals four and four plus FOUR equals eight'))"
   ]
  },
  {
   "cell_type": "code",
   "execution_count": 37,
   "metadata": {},
   "outputs": [
    {
     "name": "stdout",
     "output_type": "stream",
     "text": [
      "{'one': 1, 'two': 1, 'eight': 1, 'plus': 2, 'equals': 2, 'and': 1, 'four': 3}\n"
     ]
    }
   ],
   "source": [
    "def count_words(text):\n",
    "    if not isinstance(text, str):\n",
    "        return ValueError\n",
    "    words = text.lower().split()\n",
    "    word_counts = dict.fromkeys(set(words), 0)\n",
    "    for word in words:\n",
    "        word_counts[word] += 1\n",
    "\n",
    "    return word_counts\n",
    "\n",
    "print(count_words('one plus TWO equals  four and four plus FOUR equals eight'))"
   ]
  },
  {
   "cell_type": "code",
   "execution_count": 38,
   "metadata": {},
   "outputs": [
    {
     "name": "stdout",
     "output_type": "stream",
     "text": [
      "8551\n",
      "4hFpN\n",
      "w4454\n",
      "5t3y5\n"
     ]
    }
   ],
   "source": [
    "import random\n",
    "import string\n",
    "\n",
    "\n",
    "def generate_password(strength=1, length=None, from_source=None, site=None, epoche=0):\n",
    "    symbols = {\n",
    "        0: string.digits,\n",
    "        1: string.ascii_lowercase + string.digits,\n",
    "        2: string.ascii_letters + string.digits,\n",
    "        3: string.ascii_letters + string.digits + string.punctuation\n",
    "    }\n",
    "    if not length:\n",
    "        length = random.randint(4, 16)\n",
    "    if not from_source:\n",
    "        from_source = symbols[strength]\n",
    "\n",
    "    return ''.join(random.choice(from_source) for _ in range(length))\n",
    "\n",
    "print(generate_password(strength=0, length=4))\n",
    "print(generate_password(strength=2))\n",
    "print(generate_password(from_source='qwerty12345', length=5))\n",
    "print(generate_password(strength=3, length=5, from_source='qwerty123456'))"
   ]
  }
 ],
 "metadata": {
  "kernelspec": {
   "display_name": "Python 3",
   "language": "python",
   "name": "python3"
  },
  "language_info": {
   "codemirror_mode": {
    "name": "ipython",
    "version": 3
   },
   "file_extension": ".py",
   "mimetype": "text/x-python",
   "name": "python",
   "nbconvert_exporter": "python",
   "pygments_lexer": "ipython3",
   "version": "3.9.10"
  },
  "orig_nbformat": 4
 },
 "nbformat": 4,
 "nbformat_minor": 2
}
